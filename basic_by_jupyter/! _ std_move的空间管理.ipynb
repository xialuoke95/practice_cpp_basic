{
 "cells": [
  {
   "cell_type": "code",
   "execution_count": 1,
   "metadata": {
    "collapsed": true
   },
   "outputs": [],
   "source": [
    "// std::move与释放空间效果？emplace_back & push_back的配合？\n",
    "\n",
    "// https://blog.csdn.net/swartz_lubel/article/details/59620868\n",
    "\n",
    "#include <vector>\n",
    "#include <unordered_map>\n",
    "#include <iostream>\n",
    "#include <string>\n",
    "\n",
    "\n"
   ]
  },
  {
   "cell_type": "code",
   "execution_count": 1,
   "metadata": {
    "collapsed": true
   },
   "outputs": [],
   "source": [
    "int a=0, b=0, c=0;"
   ]
  },
  {
   "cell_type": "code",
   "execution_count": 3,
   "metadata": {},
   "outputs": [
    {
     "data": {
      "text/plain": [
       "0"
      ]
     },
     "execution_count": 3,
     "metadata": {},
     "output_type": "execute_result"
    }
   ],
   "source": [
    "b"
   ]
  },
  {
   "cell_type": "code",
   "execution_count": 2,
   "metadata": {
    "collapsed": true
   },
   "outputs": [],
   "source": [
    "std::vector<std::string> a_vec;\n",
    "std::vector<int> b_vec;\n",
    "uintptr_t debug_p;\n",
    "int value;\n",
    "int a;\n",
    "\n",
    "std::string emplace_back_a = \"hello\";\n",
    "int emplace_back_b = 2;\n"
   ]
  },
  {
   "cell_type": "code",
   "execution_count": null,
   "metadata": {
    "collapsed": true
   },
   "outputs": [],
   "source": []
  },
  {
   "cell_type": "code",
   "execution_count": 3,
   "metadata": {
    "collapsed": true
   },
   "outputs": [],
   "source": [
    "a_vec.emplace_back(std::move(emplace_back_a));\n",
    "b_vec.emplace_back(std::move(emplace_back_b));"
   ]
  },
  {
   "cell_type": "code",
   "execution_count": 5,
   "metadata": {},
   "outputs": [
    {
     "data": {
      "text/plain": [
       "2"
      ]
     },
     "execution_count": 5,
     "metadata": {},
     "output_type": "execute_result"
    }
   ],
   "source": [
    "emplace_back_a\n",
    "// move会腾出迭代器的空间，但是不会使得相关变量变成空指针\n",
    "// 对于类型变量有效！"
   ]
  },
  {
   "cell_type": "code",
   "execution_count": null,
   "metadata": {
    "collapsed": true
   },
   "outputs": [],
   "source": [
    "// video_related中调相关*v的时候取不出来原因？\n",
    "debug_p = 0x7fd31d6c2448;\n",
    "value = *reinterpret_cast<int *>(debug_p); \n",
    "value"
   ]
  }
 ],
 "metadata": {
  "kernelspec": {
   "display_name": "C++11",
   "language": "C++11",
   "name": "xcpp11"
  },
  "language_info": {
   "codemirror_mode": "text/x-c++src",
   "file_extension": ".cpp",
   "mimetype": "text/x-c++src",
   "name": "c++",
   "version": "-std=c++11"
  }
 },
 "nbformat": 4,
 "nbformat_minor": 2
}
