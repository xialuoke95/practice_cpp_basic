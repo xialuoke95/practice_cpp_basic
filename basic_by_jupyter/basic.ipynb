{
 "cells": [
  {
   "cell_type": "code",
   "execution_count": 2,
   "metadata": {
    "collapsed": true
   },
   "outputs": [],
   "source": [
    "# include <mutex>\n",
    "# include <vector>\n",
    "# include <iostream>"
   ]
  },
  {
   "cell_type": "code",
   "execution_count": null,
   "metadata": {
    "collapsed": true
   },
   "outputs": [],
   "source": [
    "int a = 1, b = 2, c = 3;\n",
    "int d = static_cast<int>((a * b) / c);"
   ]
  },
  {
   "cell_type": "code",
   "execution_count": 7,
   "metadata": {
    "collapsed": true
   },
   "outputs": [],
   "source": [
    "// 整数运算坑\n",
    "\n",
    "d = static_cast<int>(150 * (1/200));\n",
    "d = static_cast<int>(150 * 1/200);\n",
    "\n",
    "// static_cast 向下取整"
   ]
  },
  {
   "cell_type": "code",
   "execution_count": 7,
   "metadata": {
    "collapsed": true
   },
   "outputs": [],
   "source": [
    "d = 100;"
   ]
  },
  {
   "cell_type": "code",
   "execution_count": 1,
   "metadata": {
    "collapsed": true
   },
   "outputs": [],
   "source": [
    "\n",
    "// 多次调用函数，const xx的重定义能否成立\n",
    "int cal(int a){\n",
    "    const int b = 3;\n",
    "    a += b;\n",
    "    return a;\n",
    "}\n",
    "cal(3);\n",
    "cal(5);"
   ]
  },
  {
   "cell_type": "code",
   "execution_count": 3,
   "metadata": {},
   "outputs": [
    {
     "data": {
      "text/plain": [
       "8"
      ]
     },
     "execution_count": 3,
     "metadata": {},
     "output_type": "execute_result"
    }
   ],
   "source": []
  },
  {
   "cell_type": "code",
   "execution_count": 2,
   "metadata": {
    "collapsed": true
   },
   "outputs": [],
   "source": [
    "// 多次调用函数, 临时变量名 = 外部变量名；\n",
    "int add(std::shared_ptr<int> ptr){\n",
    "    *ptr = *ptr + 1;\n",
    "    return 0;\n",
    "}\n",
    "\n",
    "std::vector<std::shared_ptr<int>> p_vec;\n",
    "p_vec.emplace_back(std::make_shared<int>(3));\n",
    "p_vec.emplace_back(std::make_shared<int>(4));\n",
    "\n",
    "for (auto &ptr: p_vec){\n",
    "    add(ptr);\n",
    "    // *ptr++; shared_ptr不可以这么用\n",
    "}\n",
    "\n",
    "*p_vec[0]"
   ]
  },
  {
   "cell_type": "code",
   "execution_count": null,
   "metadata": {
    "collapsed": true
   },
   "outputs": [],
   "source": [
    "// 全局变量与函数临时变量：不会出错，最多意思混淆\n",
    "int add(std::shared_ptr<int> NOTE){\n",
    "    *NOTE = *NOTE + 1;\n",
    "    // do something\n",
    "    *NOTE = *NOTE * 2;\n",
    "    return 0;\n",
    "}\n",
    "\n",
    "std::shared_ptr<int> NOTE = std::make_shared<int>(3);\n",
    "\n",
    "std::shared_ptr<int> a_ptr = std::make_shared<int>(1);\n",
    "\n",
    "add(NOTE);\n",
    "*NOTE //8\n",
    "    \n",
    "add(a_ptr);\n",
    "*a_ptr //4; 取的不是全局变量，而是变量代入值\n"
   ]
  },
  {
   "cell_type": "code",
   "execution_count": 2,
   "metadata": {
    "collapsed": true
   },
   "outputs": [
    {
     "name": "stderr",
     "output_type": "stream",
     "text": [
      "\u001b[1minput_line_8:8:34: \u001b[0m\u001b[0;1;31merror: \u001b[0m\u001b[1mfunction definition is not allowed here\u001b[0m\n",
      "int add(std::shared_ptr<int> ptr){\n",
      "\u001b[0;1;32m                                 ^\n",
      "\u001b[0m\u001b[1minput_line_8:13:5: \u001b[0m\u001b[0;1;31merror: \u001b[0m\u001b[1muse of undeclared identifier 'add'\u001b[0m\n",
      "    add(ptr);\n",
      "\u001b[0;1;32m    ^\n",
      "\u001b[0m"
     ]
    },
    {
     "ename": "Interpreter Error",
     "evalue": "",
     "output_type": "error",
     "traceback": [
      "Interpreter Error: "
     ]
    }
   ],
   "source": [
    "// 在中间段无法定义函数，只能在起始定义\n",
    "std::vector<int> p_vec;\n",
    "p_vec.emplace_back(3);\n",
    "p_vec.emplace_back(4);\n",
    "\n",
    "int add(std::shared_ptr<int> ptr){\n",
    "    *ptr = *ptr + 1;\n",
    "    return 0;\n",
    "}\n"
   ]
  },
  {
   "cell_type": "code",
   "execution_count": 2,
   "metadata": {
    "collapsed": true
   },
   "outputs": [],
   "source": [
    "// 那么之前定义过的名字会禁止定义吗？\n",
    "\n",
    "std::shared_ptr<int> NOTE = std::make_shared<int>(3);\n",
    "\n",
    "int add(std::shared_ptr<int> NOTE){\n",
    "    *NOTE = *NOTE + 1;\n",
    "    // do something\n",
    "    *NOTE = *NOTE * 2;\n",
    "    return 0;\n",
    "}\n"
   ]
  },
  {
   "cell_type": "code",
   "execution_count": 3,
   "metadata": {},
   "outputs": [
    {
     "name": "stdout",
     "output_type": "stream",
     "text": [
      "0x7ff7b53441a8\n",
      "0x7ff7b5207108\n"
     ]
    }
   ],
   "source": [
    "// 循环过程中shared_ptr是否会重定义: 会，且出了循环就没了。除非用vector加以保存\n",
    "\n",
    "for (int i = 1; i < 3; i++){\n",
    "    std::shared_ptr<int> a_p = std::make_shared<int>();\n",
    "    std::cout << a_p << std::endl;\n",
    "}\n"
   ]
  },
  {
   "cell_type": "code",
   "execution_count": 6,
   "metadata": {},
   "outputs": [
    {
     "name": "stdout",
     "output_type": "stream",
     "text": [
      "0x7ff7b5249f88\n",
      "0x7ff7b2db2818\n"
     ]
    }
   ],
   "source": [
    "std::vector<std::shared_ptr<int>> a_p_vec;\n",
    "\n",
    "for (int i = 1; i < 3; i++){\n",
    "    std::shared_ptr<int> b_p = std::make_shared<int>(4);\n",
    "    std::cout << b_p << std::endl;\n",
    "    a_p_vec.push_back(b_p);\n",
    "}\n"
   ]
  },
  {
   "cell_type": "code",
   "execution_count": 1,
   "metadata": {
    "collapsed": true
   },
   "outputs": [],
   "source": [
    "int32_t experience_id = int32_t(2271104745);"
   ]
  },
  {
   "cell_type": "code",
   "execution_count": 2,
   "metadata": {},
   "outputs": [
    {
     "data": {
      "text/plain": [
       "-2023862551"
      ]
     },
     "execution_count": 2,
     "metadata": {},
     "output_type": "execute_result"
    }
   ],
   "source": [
    "experience_id"
   ]
  },
  {
   "cell_type": "code",
   "execution_count": 4,
   "metadata": {},
   "outputs": [
    {
     "data": {
      "text/plain": [
       "33554432"
      ]
     },
     "execution_count": 4,
     "metadata": {},
     "output_type": "execute_result"
    }
   ],
   "source": [
    "// & 运算\n",
    "\n",
    "33554432 & 33554432"
   ]
  },
  {
   "cell_type": "code",
   "execution_count": 5,
   "metadata": {},
   "outputs": [
    {
     "data": {
      "text/plain": [
       "33554432"
      ]
     },
     "execution_count": 5,
     "metadata": {},
     "output_type": "execute_result"
    }
   ],
   "source": [
    "33619968 & 33554432"
   ]
  },
  {
   "cell_type": "code",
   "execution_count": 6,
   "metadata": {},
   "outputs": [
    {
     "data": {
      "text/plain": [
       "0"
      ]
     },
     "execution_count": 6,
     "metadata": {},
     "output_type": "execute_result"
    }
   ],
   "source": [
    "65536 & 33554432"
   ]
  },
  {
   "cell_type": "code",
   "execution_count": 1,
   "metadata": {},
   "outputs": [
    {
     "data": {
      "text/plain": [
       "1"
      ]
     },
     "execution_count": 1,
     "metadata": {},
     "output_type": "execute_result"
    }
   ],
   "source": [
    "// 转化为二进制来看\n",
    "\n"
   ]
  },
  {
   "cell_type": "code",
   "execution_count": null,
   "metadata": {
    "collapsed": true
   },
   "outputs": [],
   "source": []
  }
 ],
 "metadata": {
  "kernelspec": {
   "display_name": "C++11",
   "language": "C++11",
   "name": "xcpp11"
  },
  "language_info": {
   "codemirror_mode": "text/x-c++src",
   "file_extension": ".cpp",
   "mimetype": "text/x-c++src",
   "name": "c++",
   "version": "-std=c++11"
  }
 },
 "nbformat": 4,
 "nbformat_minor": 2
}
