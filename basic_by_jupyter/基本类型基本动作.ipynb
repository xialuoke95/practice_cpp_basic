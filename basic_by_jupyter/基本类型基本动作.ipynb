{
 "cells": [
  {
   "cell_type": "code",
   "execution_count": 7,
   "metadata": {
    "collapsed": true
   },
   "outputs": [],
   "source": [
    "// vector: 两个vector合并？\n",
    "// set: insert, emplace\n",
    "// vector：push_back, emplace_back, swap, clear, empty\n",
    "// map: []\n",
    "// enum"
   ]
  },
  {
   "cell_type": "code",
   "execution_count": 1,
   "metadata": {
    "collapsed": true
   },
   "outputs": [],
   "source": [
    "#include <vector>\n",
    "#include <unordered_map>\n",
    "#include <iostream>\n",
    "#include <string>"
   ]
  },
  {
   "cell_type": "code",
   "execution_count": 2,
   "metadata": {
    "collapsed": true
   },
   "outputs": [],
   "source": [
    "//init\n",
    "std::vector<int> a_vec;\n",
    "std::vector<int> b_vec;\n",
    "std::vector<int> swap_vec;\n",
    "int push_back_a = 1;\n",
    "int emplace_back_a = 2;\n",
    "\n",
    "std::unordered_map<int, int> a_map;\n",
    "std::unordered_map<int, int>::iterator iter;\n",
    "bool is_in;\n",
    "// string::size_type iter;\n",
    "\n",
    "std::string a_str;"
   ]
  },
  {
   "cell_type": "code",
   "execution_count": 6,
   "metadata": {
    "collapsed": true
   },
   "outputs": [],
   "source": [
    "std::unordered_map<int, int> b_map = {{1,1}};"
   ]
  },
  {
   "cell_type": "code",
   "execution_count": null,
   "metadata": {
    "collapsed": true
   },
   "outputs": [],
   "source": [
    "// map: 已经初始化后如何进行整体赋值与拷贝？\n"
   ]
  },
  {
   "cell_type": "code",
   "execution_count": 3,
   "metadata": {},
   "outputs": [
    {
     "name": "stdout",
     "output_type": "stream",
     "text": [
      "0\n"
     ]
    }
   ],
   "source": [
    "// vector：push_back, emplace_back, swap, clear, empty\n",
    "a_vec = {1,2,3};\n",
    "b_vec = {};\n",
    "\n",
    "b_vec.push_back(push_back_a);\n",
    "\n",
    "// 似乎也并未释放空间\n",
    "b_vec.emplace_back(emplace_back_a);\n",
    "b_vec.emplace_back(std::move(emplace_back_a));\n",
    "// check是否析构\n",
    "\n",
    "// swap完成空间对换\n",
    "swap_vec = {1,2};\n",
    "swap_vec.swap(a_vec);\n",
    "std::cout << a_vec.empty() << std::endl;\n",
    "\n",
    "\n",
    "// ======================================= 确认释放\n",
    "\n",
    "b_vec.clear();\n",
    "\n",
    "// swap_vec\n",
    "// a_vec\n",
    "// b_vec\n",
    "\n",
    "// ================================== ? : 逻辑\n",
    "// std::cout << (a_vec.empty() ? \"1\": 0) << std::endl; // 输出空指针，挂\n",
    "std::cout << (a_vec.empty() ? \"1\": \"0\") << std::endl;\n",
    "(!a_vec.empty()) ? \"1\": \"0\""
   ]
  },
  {
   "cell_type": "code",
   "execution_count": 6,
   "metadata": {},
   "outputs": [
    {
     "name": "stdout",
     "output_type": "stream",
     "text": [
      "0\n"
     ]
    },
    {
     "data": {
      "text/plain": [
       "\"1\""
      ]
     },
     "execution_count": 6,
     "metadata": {},
     "output_type": "execute_result"
    }
   ],
   "source": [
    "// vector: 两个vector合并？"
   ]
  },
  {
   "cell_type": "code",
   "execution_count": 9,
   "metadata": {},
   "outputs": [
    {
     "name": "stdout",
     "output_type": "stream",
     "text": [
      "1\n",
      "key 1 val 3\n"
     ]
    }
   ],
   "source": [
    "// map\n",
    "// a_map = {{1,3}}; 只能一次\n",
    "\n",
    "a_map[1] = 3;\n",
    "is_in = (a_map.find(3) != a_map.end());\n",
    "std::cout << is_in << std::endl;\n",
    "\n",
    "for (auto &kv: a_map){\n",
    "    std::cout << \"key \" << kv.first << \" val \" << kv.second << std::endl;\n",
    "}"
   ]
  },
  {
   "cell_type": "code",
   "execution_count": null,
   "metadata": {
    "collapsed": true
   },
   "outputs": [],
   "source": []
  },
  {
   "cell_type": "code",
   "execution_count": 26,
   "metadata": {},
   "outputs": [
    {
     "data": {
      "text/plain": [
       "true"
      ]
     },
     "execution_count": 26,
     "metadata": {},
     "output_type": "execute_result"
    }
   ],
   "source": [
    "// string: empty\n",
    "\n",
    "a_str.empty()"
   ]
  },
  {
   "cell_type": "code",
   "execution_count": 1,
   "metadata": {
    "collapsed": true
   },
   "outputs": [],
   "source": [
    "const std::unordered_map<std::string, std::string> a_map {{\n",
    "        \"recycle_test\", \"is_test_for_recycle\"\n",
    "}};"
   ]
  },
  {
   "cell_type": "code",
   "execution_count": 2,
   "metadata": {
    "collapsed": true
   },
   "outputs": [],
   "source": [
    "std::vector<int64_t> a = {1,2,3};"
   ]
  },
  {
   "cell_type": "code",
   "execution_count": 4,
   "metadata": {},
   "outputs": [
    {
     "data": {
      "text/plain": [
       "2"
      ]
     },
     "execution_count": 4,
     "metadata": {},
     "output_type": "execute_result"
    }
   ],
   "source": [
    "a[1]"
   ]
  },
  {
   "cell_type": "code",
   "execution_count": 5,
   "metadata": {},
   "outputs": [
    {
     "data": {
      "text/plain": [
       "3"
      ]
     },
     "execution_count": 5,
     "metadata": {},
     "output_type": "execute_result"
    }
   ],
   "source": [
    "a.size()"
   ]
  },
  {
   "cell_type": "code",
   "execution_count": 6,
   "metadata": {},
   "outputs": [
    {
     "data": {
      "text/plain": [
       "3"
      ]
     },
     "execution_count": 6,
     "metadata": {},
     "output_type": "execute_result"
    }
   ],
   "source": [
    "a[2]"
   ]
  },
  {
   "cell_type": "code",
   "execution_count": 9,
   "metadata": {
    "collapsed": true
   },
   "outputs": [],
   "source": [
    "size_t b = 1;\n",
    "size_t c = -1;\n",
    "// size_t的坑,随机数的坑"
   ]
  },
  {
   "cell_type": "code",
   "execution_count": 15,
   "metadata": {},
   "outputs": [
    {
     "data": {
      "text/plain": [
       "3"
      ]
     },
     "execution_count": 15,
     "metadata": {},
     "output_type": "execute_result"
    }
   ],
   "source": [
    "std::max(1,3)"
   ]
  },
  {
   "cell_type": "code",
   "execution_count": 18,
   "metadata": {
    "collapsed": true
   },
   "outputs": [],
   "source": [
    "std::unordered_map<int, std::vector<int>> aa_map;"
   ]
  },
  {
   "cell_type": "code",
   "execution_count": 19,
   "metadata": {
    "collapsed": true
   },
   "outputs": [],
   "source": [
    "aa_map[0].push_back(1)"
   ]
  },
  {
   "cell_type": "code",
   "execution_count": 20,
   "metadata": {},
   "outputs": [
    {
     "data": {
      "text/plain": [
       "{ 0 => { 1 } }"
      ]
     },
     "execution_count": 20,
     "metadata": {},
     "output_type": "execute_result"
    }
   ],
   "source": [
    "aa_map"
   ]
  },
  {
   "cell_type": "code",
   "execution_count": 23,
   "metadata": {
    "collapsed": true
   },
   "outputs": [],
   "source": [
    "aa_map[1].push_back(2)"
   ]
  },
  {
   "cell_type": "code",
   "execution_count": 38,
   "metadata": {},
   "outputs": [
    {
     "data": {
      "text/plain": [
       "2"
      ]
     },
     "execution_count": 38,
     "metadata": {},
     "output_type": "execute_result"
    }
   ],
   "source": [
    "*std::max_element(aa_map[0].begin(), aa_map[0].end())"
   ]
  },
  {
   "cell_type": "code",
   "execution_count": 25,
   "metadata": {},
   "outputs": [
    {
     "data": {
      "text/plain": [
       "2"
      ]
     },
     "execution_count": 25,
     "metadata": {},
     "output_type": "execute_result"
    }
   ],
   "source": [
    "aa_map.keys"
   ]
  },
  {
   "cell_type": "code",
   "execution_count": 39,
   "metadata": {},
   "outputs": [
    {
     "data": {
      "text/plain": [
       "true"
      ]
     },
     "execution_count": 39,
     "metadata": {},
     "output_type": "execute_result"
    }
   ],
   "source": [
    "aa_map[3].empty()"
   ]
  },
  {
   "cell_type": "code",
   "execution_count": 35,
   "metadata": {},
   "outputs": [
    {
     "data": {
      "text/plain": [
       "1"
      ]
     },
     "execution_count": 35,
     "metadata": {},
     "output_type": "execute_result"
    }
   ],
   "source": [
    "3 % 2"
   ]
  },
  {
   "cell_type": "code",
   "execution_count": null,
   "metadata": {
    "collapsed": true
   },
   "outputs": [],
   "source": [
    "session_refresh_index = 0,1,2,3"
   ]
  },
  {
   "cell_type": "code",
   "execution_count": 20,
   "metadata": {
    "collapsed": true
   },
   "outputs": [],
   "source": [
    "#include <iostream>"
   ]
  },
  {
   "cell_type": "code",
   "execution_count": 23,
   "metadata": {
    "collapsed": true
   },
   "outputs": [],
   "source": [
    "\n",
    "\n",
    "// ================================== enum\n",
    "\n",
    "enum class DocStatusType{\n",
    "    UNKNOWN=0,\n",
    "    CRAWL=1\n",
    "}"
   ]
  },
  {
   "cell_type": "code",
   "execution_count": null,
   "metadata": {
    "collapsed": true
   },
   "outputs": [],
   "source": [
    "enum DocStatusType{\n",
    "    UNKNOWN=0,\n",
    "    CRAWL=1\n",
    "}"
   ]
  },
  {
   "cell_type": "code",
   "execution_count": 6,
   "metadata": {},
   "outputs": [],
   "source": [
    "auto b = DocType(UNKNOWN);"
   ]
  },
  {
   "cell_type": "code",
   "execution_count": null,
   "metadata": {},
   "outputs": [
    {
     "name": "stderr",
     "output_type": "stream",
     "text": [
      "ERROR: during execute_request\n",
      "Trying to dereference null pointer or trying to call routine taking non-null arguments\n"
     ]
    }
   ],
   "source": [
    "b"
   ]
  },
  {
   "cell_type": "code",
   "execution_count": 8,
   "metadata": {
    "collapsed": true
   },
   "outputs": [],
   "source": [
    "DocType c;"
   ]
  },
  {
   "cell_type": "code",
   "execution_count": 10,
   "metadata": {},
   "outputs": [],
   "source": [
    "c = UNKNOWN;"
   ]
  },
  {
   "cell_type": "code",
   "execution_count": 13,
   "metadata": {},
   "outputs": [
    {
     "data": {
      "text/plain": [
       "1"
      ]
     },
     "execution_count": 13,
     "metadata": {},
     "output_type": "execute_result"
    }
   ],
   "source": [
    "b+1"
   ]
  },
  {
   "cell_type": "code",
   "execution_count": 16,
   "metadata": {},
   "outputs": [
    {
     "data": {
      "text/plain": [
       "2"
      ]
     },
     "execution_count": 16,
     "metadata": {},
     "output_type": "execute_result"
    }
   ],
   "source": [
    "DocType::UNKNOWN + 2"
   ]
  },
  {
   "cell_type": "code",
   "execution_count": 21,
   "metadata": {},
   "outputs": [
    {
     "name": "stdout",
     "output_type": "stream",
     "text": [
      "0\n"
     ]
    }
   ],
   "source": [
    "std::cout << std::to_string(DocType::UNKNOWN) << std::endl;"
   ]
  },
  {
   "cell_type": "code",
   "execution_count": 24,
   "metadata": {},
   "outputs": [
    {
     "name": "stderr",
     "output_type": "stream",
     "text": [
      "\u001b[1minput_line_44:2:12: \u001b[0m\u001b[0;1;31merror: \u001b[0m\u001b[1minvalid operands to binary expression ('std::__1::ostream' (aka 'basic_ostream<char>') and 'DocStatusType')\u001b[0m\n",
      " std::cout << DocStatusType::UNKNOWN << std::endl;\n",
      "\u001b[0;1;32m ~~~~~~~~~ ^  ~~~~~~~~~~~~~~~~~~~~~~\n",
      "\u001b[0m\u001b[1m/Users/zy/Downloads/ENTER/envs/cling/include/c++/v1/ostream:195:20: \u001b[0m\u001b[0;1;30mnote: \u001b[0mcandidate function not viable: no known conversion from 'DocStatusType' to 'std::__1::basic_ostream<char> &(*)(std::__1::basic_ostream<char> &)' for 1st argument\u001b[0m\n",
      "    basic_ostream& operator<<(basic_ostream& (*__pf)(basic_ostream&))\n",
      "\u001b[0;1;32m                   ^\n",
      "\u001b[0m\u001b[1m/Users/zy/Downloads/ENTER/envs/cling/include/c++/v1/ostream:199:20: \u001b[0m\u001b[0;1;30mnote: \u001b[0mcandidate function not viable: no known conversion from 'DocStatusType' to 'basic_ios<std::__1::basic_ostream<char, std::__1::char_traits<char> >::char_type, std::__1::basic_ostream<char, std::__1::char_traits<char> >::traits_type>\n",
      "      &(*)(basic_ios<std::__1::basic_ostream<char, std::__1::char_traits<char> >::char_type, std::__1::basic_ostream<char, std::__1::char_traits<char> >::traits_type> &)' (aka 'basic_ios<char, std::__1::char_traits<char> > &(*)(basic_ios<char, std::__1::char_traits<char>\n",
      "      > &)') for 1st argument\u001b[0m\n",
      "    basic_ostream& operator<<(basic_ios<char_type, traits_type>&\n",
      "\u001b[0;1;32m                   ^\n",
      "\u001b[0m\u001b[1m/Users/zy/Downloads/ENTER/envs/cling/include/c++/v1/ostream:204:20: \u001b[0m\u001b[0;1;30mnote: \u001b[0mcandidate function not viable: no known conversion from 'DocStatusType' to 'std::__1::ios_base &(*)(std::__1::ios_base &)' for 1st argument\u001b[0m\n",
      "    basic_ostream& operator<<(ios_base& (*__pf)(ios_base&))\n",
      "\u001b[0;1;32m                   ^\n",
      "\u001b[0m\u001b[1m/Users/zy/Downloads/ENTER/envs/cling/include/c++/v1/ostream:207:20: \u001b[0m\u001b[0;1;30mnote: \u001b[0mcandidate function not viable: no known conversion from 'DocStatusType' to 'bool' for 1st argument\u001b[0m\n",
      "    basic_ostream& operator<<(bool __n);\n",
      "\u001b[0;1;32m                   ^\n",
      "\u001b[0m\u001b[1m/Users/zy/Downloads/ENTER/envs/cling/include/c++/v1/ostream:208:20: \u001b[0m\u001b[0;1;30mnote: \u001b[0mcandidate function not viable: no known conversion from 'DocStatusType' to 'short' for 1st argument\u001b[0m\n",
      "    basic_ostream& operator<<(short __n);\n",
      "\u001b[0;1;32m                   ^\n",
      "\u001b[0m\u001b[1m/Users/zy/Downloads/ENTER/envs/cling/include/c++/v1/ostream:209:20: \u001b[0m\u001b[0;1;30mnote: \u001b[0mcandidate function not viable: no known conversion from 'DocStatusType' to 'unsigned short' for 1st argument\u001b[0m\n",
      "    basic_ostream& operator<<(unsigned short __n);\n",
      "\u001b[0;1;32m                   ^\n",
      "\u001b[0m\u001b[1m/Users/zy/Downloads/ENTER/envs/cling/include/c++/v1/ostream:210:20: \u001b[0m\u001b[0;1;30mnote: \u001b[0mcandidate function not viable: no known conversion from 'DocStatusType' to 'int' for 1st argument\u001b[0m\n",
      "    basic_ostream& operator<<(int __n);\n",
      "\u001b[0;1;32m                   ^\n",
      "\u001b[0m\u001b[1m/Users/zy/Downloads/ENTER/envs/cling/include/c++/v1/ostream:211:20: \u001b[0m\u001b[0;1;30mnote: \u001b[0mcandidate function not viable: no known conversion from 'DocStatusType' to 'unsigned int' for 1st argument\u001b[0m\n",
      "    basic_ostream& operator<<(unsigned int __n);\n",
      "\u001b[0;1;32m                   ^\n",
      "\u001b[0m\u001b[1m/Users/zy/Downloads/ENTER/envs/cling/include/c++/v1/ostream:212:20: \u001b[0m\u001b[0;1;30mnote: \u001b[0mcandidate function not viable: no known conversion from 'DocStatusType' to 'long' for 1st argument\u001b[0m\n",
      "    basic_ostream& operator<<(long __n);\n",
      "\u001b[0;1;32m                   ^\n",
      "\u001b[0m\u001b[1m/Users/zy/Downloads/ENTER/envs/cling/include/c++/v1/ostream:213:20: \u001b[0m\u001b[0;1;30mnote: \u001b[0mcandidate function not viable: no known conversion from 'DocStatusType' to 'unsigned long' for 1st argument\u001b[0m\n",
      "    basic_ostream& operator<<(unsigned long __n);\n",
      "\u001b[0;1;32m                   ^\n",
      "\u001b[0m\u001b[1m/Users/zy/Downloads/ENTER/envs/cling/include/c++/v1/ostream:214:20: \u001b[0m\u001b[0;1;30mnote: \u001b[0mcandidate function not viable: no known conversion from 'DocStatusType' to 'long long' for 1st argument\u001b[0m\n",
      "    basic_ostream& operator<<(long long __n);\n",
      "\u001b[0;1;32m                   ^\n",
      "\u001b[0m\u001b[1m/Users/zy/Downloads/ENTER/envs/cling/include/c++/v1/ostream:215:20: \u001b[0m\u001b[0;1;30mnote: \u001b[0mcandidate function not viable: no known conversion from 'DocStatusType' to 'unsigned long long' for 1st argument\u001b[0m\n",
      "    basic_ostream& operator<<(unsigned long long __n);\n",
      "\u001b[0;1;32m                   ^\n",
      "\u001b[0m\u001b[1m/Users/zy/Downloads/ENTER/envs/cling/include/c++/v1/ostream:216:20: \u001b[0m\u001b[0;1;30mnote: \u001b[0mcandidate function not viable: no known conversion from 'DocStatusType' to 'float' for 1st argument\u001b[0m\n",
      "    basic_ostream& operator<<(float __f);\n",
      "\u001b[0;1;32m                   ^\n",
      "\u001b[0m\u001b[1m/Users/zy/Downloads/ENTER/envs/cling/include/c++/v1/ostream:217:20: \u001b[0m\u001b[0;1;30mnote: \u001b[0mcandidate function not viable: no known conversion from 'DocStatusType' to 'double' for 1st argument\u001b[0m\n",
      "    basic_ostream& operator<<(double __f);\n",
      "\u001b[0;1;32m                   ^\n",
      "\u001b[0m\u001b[1m/Users/zy/Downloads/ENTER/envs/cling/include/c++/v1/ostream:218:20: \u001b[0m\u001b[0;1;30mnote: \u001b[0mcandidate function not viable: no known conversion from 'DocStatusType' to 'long double' for 1st argument\u001b[0m\n",
      "    basic_ostream& operator<<(long double __f);\n",
      "\u001b[0;1;32m                   ^\n",
      "\u001b[0m\u001b[1m/Users/zy/Downloads/ENTER/envs/cling/include/c++/v1/ostream:219:20: \u001b[0m\u001b[0;1;30mnote: \u001b[0mcandidate function not viable: no known conversion from 'DocStatusType' to 'const void *' for 1st argument\u001b[0m\n",
      "    basic_ostream& operator<<(const void* __p);\n",
      "\u001b[0;1;32m                   ^\n",
      "\u001b[0m\u001b[1m/Users/zy/Downloads/ENTER/envs/cling/include/c++/v1/ostream:220:20: \u001b[0m\u001b[0;1;30mnote: \u001b[0mcandidate function not viable: no known conversion from 'DocStatusType' to 'basic_streambuf<std::__1::basic_ostream<char, std::__1::char_traits<char> >::char_type, std::__1::basic_ostream<char, std::__1::char_traits<char> >::traits_type> *'\n",
      "      (aka 'basic_streambuf<char, std::__1::char_traits<char> > *') for 1st argument\u001b[0m\n",
      "    basic_ostream& operator<<(basic_streambuf<char_type, traits_type>* __sb);\n",
      "\u001b[0;1;32m                   ^\n",
      "\u001b[0m\u001b[1m/Users/zy/Downloads/ENTER/envs/cling/include/c++/v1/ostream:756:1: \u001b[0m\u001b[0;1;30mnote: \u001b[0mcandidate function not viable: no known conversion from 'DocStatusType' to 'char' for 2nd argument\u001b[0m\n",
      "operator<<(basic_ostream<_CharT, _Traits>& __os, char __cn)\n",
      "\u001b[0;1;32m^\n",
      "\u001b[0m\u001b[1m/Users/zy/Downloads/ENTER/envs/cling/include/c++/v1/ostream:789:1: \u001b[0m\u001b[0;1;30mnote: \u001b[0mcandidate function not viable: no known conversion from 'DocStatusType' to 'char' for 2nd argument\u001b[0m\n",
      "operator<<(basic_ostream<char, _Traits>& __os, char __c)\n",
      "\u001b[0;1;32m^\n",
      "\u001b[0m\u001b[1m/Users/zy/Downloads/ENTER/envs/cling/include/c++/v1/ostream:796:1: \u001b[0m\u001b[0;1;30mnote: \u001b[0mcandidate function not viable: no known conversion from 'DocStatusType' to 'signed char' for 2nd argument\u001b[0m\n",
      "operator<<(basic_ostream<char, _Traits>& __os, signed char __c)\n",
      "\u001b[0;1;32m^\n",
      "\u001b[0m\u001b[1m/Users/zy/Downloads/ENTER/envs/cling/include/c++/v1/ostream:803:1: \u001b[0m\u001b[0;1;30mnote: \u001b[0mcandidate function not viable: no known conversion from 'DocStatusType' to 'unsigned char' for 2nd argument\u001b[0m\n",
      "operator<<(basic_ostream<char, _Traits>& __os, unsigned char __c)\n",
      "\u001b[0;1;32m^\n",
      "\u001b[0m\u001b[1m/Users/zy/Downloads/ENTER/envs/cling/include/c++/v1/ostream:817:1: \u001b[0m\u001b[0;1;30mnote: \u001b[0mcandidate function not viable: no known conversion from 'DocStatusType' to 'const char *' for 2nd argument\u001b[0m\n",
      "operator<<(basic_ostream<_CharT, _Traits>& __os, const char* __strn)\n",
      "\u001b[0;1;32m^\n",
      "\u001b[0m\u001b[1m/Users/zy/Downloads/ENTER/envs/cling/include/c++/v1/ostream:863:1: \u001b[0m\u001b[0;1;30mnote: \u001b[0mcandidate function not viable: no known conversion from 'DocStatusType' to 'const char *' for 2nd argument\u001b[0m\n",
      "operator<<(basic_ostream<char, _Traits>& __os, const char* __str)\n",
      "\u001b[0;1;32m^\n",
      "\u001b[0m\u001b[1m/Users/zy/Downloads/ENTER/envs/cling/include/c++/v1/ostream:870:1: \u001b[0m\u001b[0;1;30mnote: \u001b[0mcandidate function not viable: no known conversion from 'DocStatusType' to 'const signed char *' for 2nd argument\u001b[0m\n",
      "operator<<(basic_ostream<char, _Traits>& __os, const signed char* __str)\n",
      "\u001b[0;1;32m^\n",
      "\u001b[0m\u001b[1m/Users/zy/Downloads/ENTER/envs/cling/include/c++/v1/ostream:878:1: \u001b[0m\u001b[0;1;30mnote: \u001b[0mcandidate function not viable: no known conversion from 'DocStatusType' to 'const unsigned char *' for 2nd argument\u001b[0m\n",
      "operator<<(basic_ostream<char, _Traits>& __os, const unsigned char* __str)\n"
     ]
    },
    {
     "name": "stderr",
     "output_type": "stream",
     "text": [
      "\u001b[0;1;32m^\n",
      "\u001b[0m\u001b[1m/Users/zy/Downloads/ENTER/envs/cling/include/c++/v1/ostream:1062:1: \u001b[0m\u001b[0;1;30mnote: \u001b[0mcandidate function not viable: no known conversion from 'DocStatusType' to 'const std::__1::error_code' for 2nd argument\u001b[0m\n",
      "operator<<(basic_ostream<_CharT, _Traits>& __os, const error_code& __ec)\n",
      "\u001b[0;1;32m^\n",
      "\u001b[0m\u001b[1m/Users/zy/Downloads/ENTER/envs/cling/include/c++/v1/ostream:749:1: \u001b[0m\u001b[0;1;30mnote: \u001b[0mcandidate template ignored: deduced conflicting types for parameter '_CharT' ('char' vs. 'DocStatusType')\u001b[0m\n",
      "operator<<(basic_ostream<_CharT, _Traits>& __os, _CharT __c)\n",
      "\u001b[0;1;32m^\n",
      "\u001b[0m\u001b[1m/Users/zy/Downloads/ENTER/envs/cling/include/c++/v1/valarray:4153:1: \u001b[0m\u001b[0;1;30mnote: \u001b[0mcandidate template ignored: substitution failure [with _Expr1 = std::__1::basic_ostream<char>, _Expr2 = DocStatusType]: no type named 'value_type' in 'std::__1::basic_ostream<char>'\u001b[0m\n",
      "operator<<(const _Expr1& __x, const _Expr2& __y)\n",
      "\u001b[0;1;32m^\n",
      "\u001b[0m\u001b[1m/Users/zy/Downloads/ENTER/envs/cling/include/c++/v1/ostream:810:1: \u001b[0m\u001b[0;1;30mnote: \u001b[0mcandidate template ignored: could not match 'const _CharT *' against 'DocStatusType'\u001b[0m\n",
      "operator<<(basic_ostream<_CharT, _Traits>& __os, const _CharT* __str)\n",
      "\u001b[0;1;32m^\n",
      "\u001b[0m\u001b[1m/Users/zy/Downloads/ENTER/envs/cling/include/c++/v1/ostream:1089:1: \u001b[0m\u001b[0;1;30mnote: \u001b[0mcandidate template ignored: could not match 'bitset<_Size>' against 'DocStatusType'\u001b[0m\n",
      "operator<<(basic_ostream<_CharT, _Traits>& __os, const bitset<_Size>& __x)\n",
      "\u001b[0;1;32m^\n",
      "\u001b[0m\u001b[1m/Users/zy/Downloads/ENTER/envs/cling/include/c++/v1/valarray:4168:1: \u001b[0m\u001b[0;1;30mnote: \u001b[0mcandidate template ignored: substitution failure [with _Expr = std::__1::basic_ostream<char>]: no type named 'value_type' in 'std::__1::basic_ostream<char>'\u001b[0m\n",
      "operator<<(const _Expr& __x, const typename _Expr::value_type& __y)\n",
      "\u001b[0;1;32m^\n",
      "\u001b[0m\u001b[1m/Users/zy/Downloads/ENTER/envs/cling/include/c++/v1/valarray:4184:1: \u001b[0m\u001b[0;1;30mnote: \u001b[0mcandidate template ignored: substitution failure [with _Expr = DocStatusType]: no type named 'value_type' in 'DocStatusType'\u001b[0m\n",
      "operator<<(const typename _Expr::value_type& __x, const _Expr& __y)\n",
      "\u001b[0;1;32m^\n",
      "\u001b[0m\u001b[1m/Users/zy/Downloads/ENTER/envs/cling/include/c++/v1/ostream:1045:1: \u001b[0m\u001b[0;1;30mnote: \u001b[0mcandidate template ignored: could not match 'basic_string<type-parameter-0-0, type-parameter-0-1, type-parameter-0-2>' against 'DocStatusType'\u001b[0m\n",
      "operator<<(basic_ostream<_CharT, _Traits>& __os,\n",
      "\u001b[0;1;32m^\n",
      "\u001b[0m\u001b[1m/Users/zy/Downloads/ENTER/envs/cling/include/c++/v1/ostream:1035:1: \u001b[0m\u001b[0;1;30mnote: \u001b[0mcandidate template ignored: requirement '!is_lvalue_reference<basic_ostream<char> &>::value' was not satisfied [with _Stream = std::__1::basic_ostream<char> &, _Tp = DocStatusType]\u001b[0m\n",
      "operator<<(_Stream&& __os, const _Tp& __x)\n",
      "\u001b[0;1;32m^\n",
      "\u001b[0m\u001b[1m/Users/zy/Downloads/ENTER/envs/cling/include/c++/v1/ostream:1053:1: \u001b[0m\u001b[0;1;30mnote: \u001b[0mcandidate template ignored: could not match 'basic_string_view<type-parameter-0-0, type-parameter-0-1>' against 'DocStatusType'\u001b[0m\n",
      "operator<<(basic_ostream<_CharT, _Traits>& __os,\n",
      "\u001b[0;1;32m^\n",
      "\u001b[0m\u001b[1m/Users/zy/Downloads/ENTER/envs/cling/include/c++/v1/ostream:1070:1: \u001b[0m\u001b[0;1;30mnote: \u001b[0mcandidate template ignored: could not match 'shared_ptr<type-parameter-0-2>' against 'DocStatusType'\u001b[0m\n",
      "operator<<(basic_ostream<_CharT, _Traits>& __os, shared_ptr<_Yp> const& __p)\n",
      "\u001b[0;1;32m^\n",
      "\u001b[0m\u001b[1m/Users/zy/Downloads/ENTER/envs/cling/include/c++/v1/ostream:1082:1: \u001b[0m\u001b[0;1;30mnote: \u001b[0mcandidate template ignored: could not match 'unique_ptr<type-parameter-0-2, type-parameter-0-3>' against 'DocStatusType'\u001b[0m\n",
      "operator<<(basic_ostream<_CharT, _Traits>& __os, unique_ptr<_Yp, _Dp> const& __p)\n",
      "\u001b[0;1;32m^\n",
      "\u001b[0m\u001b[1m/Users/zy/Downloads/ENTER/envs/cling/include/c++/v1/iomanip:363:1: \u001b[0m\u001b[0;1;30mnote: \u001b[0mcandidate template ignored: could not match '__iom_t8<type-parameter-0-2>' against 'DocStatusType'\u001b[0m\n",
      "operator<<(basic_ostream<_CharT, _Traits>& __os, const __iom_t8<_MoneyT>& __x)\n",
      "\u001b[0;1;32m^\n",
      "\u001b[0m\u001b[1m/Users/zy/Downloads/ENTER/envs/cling/include/c++/v1/iomanip:478:5: \u001b[0m\u001b[0;1;30mnote: \u001b[0mcandidate template ignored: could not match '__iom_t10<type-parameter-0-0>' against 'DocStatusType'\u001b[0m\n",
      "    operator<<(basic_ostream<_Cp, _Traits>& __os, const __iom_t10<_Cp>& __x);\n",
      "\u001b[0;1;32m    ^\n",
      "\u001b[0m\u001b[1m/Users/zy/Downloads/ENTER/envs/cling/include/c++/v1/iomanip:573:33: \u001b[0m\u001b[0;1;30mnote: \u001b[0mcandidate template ignored: could not match '__quoted_output_proxy<type-parameter-0-0, type-parameter-0-2, type-parameter-0-1>' against 'DocStatusType'\u001b[0m\n",
      "basic_ostream<_CharT, _Traits>& operator<<(\n",
      "\u001b[0;1;32m                                ^\n",
      "\u001b[0m\u001b[1m/Users/zy/Downloads/ENTER/envs/cling/include/c++/v1/iomanip:593:33: \u001b[0m\u001b[0;1;30mnote: \u001b[0mcandidate template ignored: could not match '__quoted_proxy<type-parameter-0-0, type-parameter-0-1, type-parameter-0-2>' against 'DocStatusType'\u001b[0m\n",
      "basic_ostream<_CharT, _Traits>& operator<<(\n",
      "\u001b[0;1;32m                                ^\n",
      "\u001b[0m"
     ]
    },
    {
     "ename": "Interpreter Error",
     "evalue": "",
     "output_type": "error",
     "traceback": [
      "Interpreter Error: "
     ]
    }
   ],
   "source": [
    "// enum class就不行\n",
    "std::cout << DocStatusType::UNKNOWN << std::endl;"
   ]
  },
  {
   "cell_type": "code",
   "execution_count": null,
   "metadata": {
    "collapsed": true
   },
   "outputs": [],
   "source": []
  }
 ],
 "metadata": {
  "kernelspec": {
   "display_name": "C++11",
   "language": "C++11",
   "name": "xcpp11"
  },
  "language_info": {
   "codemirror_mode": "text/x-c++src",
   "file_extension": ".cpp",
   "mimetype": "text/x-c++src",
   "name": "c++",
   "version": "-std=c++11"
  }
 },
 "nbformat": 4,
 "nbformat_minor": 2
}
