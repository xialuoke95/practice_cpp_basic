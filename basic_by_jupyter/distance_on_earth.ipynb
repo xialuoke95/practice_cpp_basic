{
 "cells": [
  {
   "cell_type": "code",
   "execution_count": 1,
   "metadata": {
    "collapsed": true
   },
   "outputs": [],
   "source": [
    "#include <stdio.h>\n",
    "#include <math.h>\n",
    "#include <iostream>\n",
    "\n",
    "#define PI                      3.1415926\n",
    "#define EARTH_RADIUS            6378.137        //地球近似半径\n",
    "\n",
    "\n",
    "// 求弧度\n",
    "// double radian(double d)\n",
    "// {\n",
    "//     return d * PI / 180.0;   //角度1&#730; = π / 180\n",
    "// }\n",
    "\n"
   ]
  },
  {
   "cell_type": "code",
   "execution_count": 2,
   "metadata": {
    "collapsed": true
   },
   "outputs": [],
   "source": [
    "//计算距离\n",
    "double get_distance(double lat1, double lng1, double lat2, double lng2)\n",
    "{\n",
    "    auto radian = [](double& lat_or_lng){\n",
    "        return lat_or_lng * PI / 180.0;\n",
    "    };\n",
    "    double radLat1 = radian(lat1);\n",
    "    double radLat2 = radian(lat2);\n",
    "    double a = radLat1 - radLat2;\n",
    "    double b = radian(lng1) - radian(lng2);\n",
    "\n",
    "    double dst = 2 * asin((sqrt(pow(sin(a / 2), 2) + cos(radLat1) * cos(radLat2) * pow(sin(b / 2), 2) )));\n",
    "\n",
    "    dst = dst * EARTH_RADIUS;\n",
    "    dst= round(dst * 10000) / 10000;\n",
    "    return dst;\n",
    "}\n"
   ]
  },
  {
   "cell_type": "code",
   "execution_count": 3,
   "metadata": {},
   "outputs": [
    {
     "data": {
      "text/plain": [
       "8.54"
      ]
     },
     "execution_count": 3,
     "metadata": {},
     "output_type": "execute_result"
    }
   ],
   "source": [
    "get_distance(39.9, 116.4, 39.9, 116.3);\n",
    "//double dst = get_distance(40.013976, 116.352858, 40.013977, 116.352937)\n",
    "// "
   ]
  },
  {
   "cell_type": "code",
   "execution_count": 4,
   "metadata": {
    "collapsed": true
   },
   "outputs": [],
   "source": [
    "printf(\"dst = %0.3fkm\\\\n\", dst);  "
   ]
  },
  {
   "cell_type": "code",
   "execution_count": 4,
   "metadata": {
    "collapsed": true
   },
   "outputs": [],
   "source": [
    "\n",
    "# include <string>\n",
    "\n",
    "std::string a = \"a\";"
   ]
  },
  {
   "cell_type": "code",
   "execution_count": 6,
   "metadata": {},
   "outputs": [
    {
     "name": "stdout",
     "output_type": "stream",
     "text": [
      "a:%sa\n"
     ]
    }
   ],
   "source": [
    "std::cout << \"a:%s\" << a << std::endl;"
   ]
  },
  {
   "cell_type": "code",
   "execution_count": 2,
   "metadata": {},
   "outputs": [
    {
     "name": "stderr",
     "output_type": "stream",
     "text": [
      "In file included from input_line_8:5:\n",
      "\u001b[1m/Users/zy/Downloads/ENTER/envs/cling/include/c++/v1/set:435:1: \u001b[0m\u001b[0;1;31merror: \u001b[0m\u001b[1mnamespaces can only be defined in global or namespace scope\u001b[0m\n",
      "_LIBCPP_BEGIN_NAMESPACE_STD\n",
      "\u001b[0;1;32m^\n",
      "\u001b[0m\u001b[1m/Users/zy/Downloads/ENTER/envs/cling/include/c++/v1/__config:814:51: \u001b[0m\u001b[0;1;30mnote: \u001b[0mexpanded from macro '_LIBCPP_BEGIN_NAMESPACE_STD'\u001b[0m\n",
      "#define _LIBCPP_BEGIN_NAMESPACE_STD namespace std { inline namespace _LIBCPP_ABI_NAMESPACE {\n",
      "\u001b[0;1;32m                                                  ^\n",
      "\u001b[0m\u001b[1minput_line_8:6:13: \u001b[0m\u001b[0;1;31merror: \u001b[0m\u001b[1mexpected '(' for function-style cast or type construction\u001b[0m\n",
      "std::set<int> ab = {1,2};\n",
      "\u001b[0;1;32m         ~~~^\n",
      "\u001b[0m\u001b[1minput_line_8:6:6: \u001b[0m\u001b[0;1;31merror: \u001b[0m\u001b[1mno member named 'set' in namespace 'std'\u001b[0m\n",
      "std::set<int> ab = {1,2};\n",
      "\u001b[0;1;32m~~~~~^\n",
      "\u001b[0m\u001b[1minput_line_8:6:15: \u001b[0m\u001b[0;1;31merror: \u001b[0m\u001b[1muse of undeclared identifier 'ab'\u001b[0m\n",
      "std::set<int> ab = {1,2};\n",
      "\u001b[0;1;32m              ^\n",
      "\u001b[0m"
     ]
    },
    {
     "ename": "Interpreter Error",
     "evalue": "",
     "output_type": "error",
     "traceback": [
      "Interpreter Error: "
     ]
    }
   ],
   "source": [
    "//     auto index_score_cmp = [](INDEX_SCORE& a, INDEX_SCORE& b) {\n",
    "//         return std::get<1>(a) > std::get<1>(b);\n",
    "//     };\n",
    "\n",
    "# include <set>\n",
    "std::set<int> ab = {1,2};"
   ]
  },
  {
   "cell_type": "code",
   "execution_count": 3,
   "metadata": {
    "collapsed": true
   },
   "outputs": [],
   "source": [
    "#include <tuple>\n",
    "std::tuple<double, double> lat_and_lng;\n"
   ]
  },
  {
   "cell_type": "code",
   "execution_count": 4,
   "metadata": {
    "collapsed": true
   },
   "outputs": [],
   "source": [
    "lat_and_lng = {1,2};"
   ]
  },
  {
   "cell_type": "code",
   "execution_count": 6,
   "metadata": {},
   "outputs": [
    {
     "name": "stderr",
     "output_type": "stream",
     "text": [
      "\u001b[1minput_line_13:2:14: \u001b[0m\u001b[0;1;31merror: \u001b[0m\u001b[1mno member named 'empty' in 'std::__1::tuple<double, double>'\u001b[0m\n",
      " lat_and_lng.empty()\n",
      "\u001b[0;1;32m ~~~~~~~~~~~ ^\n",
      "\u001b[0m"
     ]
    },
    {
     "ename": "Interpreter Error",
     "evalue": "",
     "output_type": "error",
     "traceback": [
      "Interpreter Error: "
     ]
    }
   ],
   "source": [
    "lat_and_lng.empty()"
   ]
  },
  {
   "cell_type": "code",
   "execution_count": 8,
   "metadata": {
    "collapsed": true
   },
   "outputs": [],
   "source": [
    "std::tuple<double, double> lat;"
   ]
  },
  {
   "cell_type": "code",
   "execution_count": 9,
   "metadata": {},
   "outputs": [
    {
     "data": {
      "text/plain": [
       "@0x10db0d398"
      ]
     },
     "execution_count": 9,
     "metadata": {},
     "output_type": "execute_result"
    }
   ],
   "source": [
    "lat"
   ]
  },
  {
   "cell_type": "code",
   "execution_count": 12,
   "metadata": {},
   "outputs": [
    {
     "name": "stderr",
     "output_type": "stream",
     "text": [
      "\u001b[1minput_line_24:2:19: \u001b[0m\u001b[0;1;30mnote: \u001b[0muse '=' to turn this equality comparison into an assignment\u001b[0m\n",
      " std::get<1>(lat) == 0\n",
      "\u001b[0;1;32m                  ^~\n",
      "\u001b[0m\u001b[0;32m                  =\n",
      "\u001b[0m"
     ]
    },
    {
     "data": {
      "text/plain": [
       "true"
      ]
     },
     "execution_count": 12,
     "metadata": {},
     "output_type": "execute_result"
    }
   ],
   "source": [
    "std::get<1>(lat) == 0"
   ]
  },
  {
   "cell_type": "code",
   "execution_count": null,
   "metadata": {
    "collapsed": true
   },
   "outputs": [],
   "source": []
  }
 ],
 "metadata": {
  "kernelspec": {
   "display_name": "C++11",
   "language": "C++11",
   "name": "xcpp11"
  },
  "language_info": {
   "codemirror_mode": "text/x-c++src",
   "file_extension": ".cpp",
   "mimetype": "text/x-c++src",
   "name": "c++",
   "version": "-std=c++11"
  }
 },
 "nbformat": 4,
 "nbformat_minor": 2
}
