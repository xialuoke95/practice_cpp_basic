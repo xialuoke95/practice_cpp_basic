{
 "cells": [
  {
   "cell_type": "code",
   "execution_count": 1,
   "metadata": {
    "collapsed": true
   },
   "outputs": [],
   "source": [
    "// 怎样才会释放内存\n",
    "// 高级主题\n",
    "// JsonParams case 实战"
   ]
  },
  {
   "cell_type": "code",
   "execution_count": 1,
   "metadata": {
    "collapsed": true
   },
   "outputs": [],
   "source": [
    "# include <mutex>\n",
    "# include <iostream>\n",
    "# include <memory>\n",
    "#include <cstdint>"
   ]
  },
  {
   "cell_type": "code",
   "execution_count": 12,
   "metadata": {
    "collapsed": true
   },
   "outputs": [],
   "source": [
    "uintptr_t debug_p;\n",
    "int value;\n",
    "int a;\n"
   ]
  },
  {
   "cell_type": "code",
   "execution_count": 2,
   "metadata": {
    "collapsed": true
   },
   "outputs": [],
   "source": [
    "a = 3;\n",
    "int *p = &a;\n",
    "// 不是动态内存的时候好像也OK？\n",
    "int *p2 = new int(3);  \n",
    "// 必须是动态内存\n",
    "std::cout << p << std::endl;\n",
    "std::cout << p2 << std::endl;"
   ]
  },
  {
   "cell_type": "code",
   "execution_count": 4,
   "metadata": {
    "collapsed": true
   },
   "outputs": [],
   "source": [
    "// 普通指针初始化，new初始化，reset初始化\n",
    "\n",
    "std::shared_ptr<int> sp2(p);\n",
    "std::shared_ptr<int> sp3(p2);\n",
    "\n",
    "std::cout << p2 << std::endl;\n",
    "// 初始化智能指针可以用已经存在的基本指针，但是一旦智能指针释放，基本指针也将无法取到值，是风险所在\n",
    "// shared_ptr绑定普通指针，则承担管理责任，一旦使用，内置指针则废弃。"
   ]
  },
  {
   "cell_type": "code",
   "execution_count": null,
   "metadata": {
    "collapsed": true
   },
   "outputs": [],
   "source": [
    "sp2 = new int(3); \n",
    "sp2.reset(new int(3)); //  pointer being freed was not allocated. 已经赋值的指针reset失败"
   ]
  },
  {
   "cell_type": "code",
   "execution_count": 2,
   "metadata": {
    "collapsed": true
   },
   "outputs": [],
   "source": [
    "std::shared_ptr<int> sp4;\n",
    "sp4.reset(new int(5)); // 没有赋值过的指针可以用reset赋值\n",
    "std::cout << sp4 << std::endl;\n",
    "// sp4.reset(); // 也可以释放\n",
    "sp4.reset(new int(8)); // 也可以重新指向\n",
    "std::cout << sp4 << std::endl;"
   ]
  },
  {
   "cell_type": "code",
   "execution_count": 5,
   "metadata": {
    "collapsed": true
   },
   "outputs": [],
   "source": [
    "// make_shared初始化\n",
    "std::shared_ptr<int> sp3 = std::make_shared<int> (42);"
   ]
  },
  {
   "cell_type": "code",
   "execution_count": null,
   "metadata": {
    "collapsed": true
   },
   "outputs": [],
   "source": [
    "// ============================================ 怎样才会释放内存"
   ]
  },
  {
   "cell_type": "code",
   "execution_count": 2,
   "metadata": {},
   "outputs": [
    {
     "name": "stdout",
     "output_type": "stream",
     "text": [
      "0x7fd31d6c2448\n",
      "0x111a3a410\n"
     ]
    }
   ],
   "source": [
    "// ------------------------------------ Case 1\n",
    "int a = 1;\n",
    "auto sp4 = std::make_shared<int>(a);\n",
    "std::cout << sp4 << std::endl;\n",
    "int *q = &a; \n",
    "std::cout << q << std::endl;\n",
    "sp4.reset(); // 没有释放？是因为这种情况下 *q  指向的是栈上的内存，并未指向堆；a相当于只是作为一个值传入"
   ]
  },
  {
   "cell_type": "code",
   "execution_count": 10,
   "metadata": {},
   "outputs": [
    {
     "data": {
      "text/plain": [
       "4"
      ]
     },
     "execution_count": 10,
     "metadata": {},
     "output_type": "execute_result"
    }
   ],
   "source": [
    "debug_p = 0x7fd31d6c2448;\n",
    "value = *reinterpret_cast<int *>(debug_p); \n",
    "value\n",
    "// 动态内存本身其实已经释放"
   ]
  },
  {
   "cell_type": "code",
   "execution_count": 2,
   "metadata": {
    "collapsed": true
   },
   "outputs": [],
   "source": [
    "// ------------------------------------ Case 1.5\n",
    "\n",
    "void process(std::shared_ptr<int> ptr){\n",
    "    std::cout << ptr << std::endl;\n",
    "    std::cout << *ptr << std::endl;\n",
    "} // 进函数时才初始化，计数 = 1，则出函数后释放空间\n"
   ]
  },
  {
   "cell_type": "code",
   "execution_count": 3,
   "metadata": {},
   "outputs": [
    {
     "name": "stdout",
     "output_type": "stream",
     "text": [
      "0x7fb12a221be0\n",
      "0x7fb12a221be0\n",
      "5\n"
     ]
    }
   ],
   "source": [
    "int *x(new int(5));\n",
    "std::cout << x << std::endl;\n",
    "// process(x); 无法隐式转换\n",
    "process(std::shared_ptr<int>(x)); // 强制转换得到的智能指针也被绑定到了相应的位置（和x相同的一块动态内存）上\n",
    "\n",
    "std::cout << x << std::endl;   // 指向位置没发生变化\n",
    "std::cout << *x << std::endl; // 但相应位置的内存空间已经释放"
   ]
  },
  {
   "cell_type": "code",
   "execution_count": null,
   "metadata": {
    "collapsed": true
   },
   "outputs": [],
   "source": []
  },
  {
   "cell_type": "code",
   "execution_count": 30,
   "metadata": {
    "collapsed": true
   },
   "outputs": [],
   "source": [
    "// ------------------------------------ Case 2\n",
    "\n",
    "auto sp5 = std::make_shared<int>(3);\n",
    "auto sp6(sp5);\n",
    "// int *a_q = *sp6; 错误\n",
    "int *a_q = sp6.get();"
   ]
  },
  {
   "cell_type": "code",
   "execution_count": 32,
   "metadata": {
    "collapsed": true
   },
   "outputs": [],
   "source": [
    "sp6.reset();\n",
    "std::cout << *a_q << std::endl;\n",
    "sp5.reset();\n",
    "*a_q;\n",
    "// 似乎在这种纯动态内存情况下依然未释放"
   ]
  },
  {
   "cell_type": "code",
   "execution_count": 4,
   "metadata": {},
   "outputs": [
    {
     "name": "stdout",
     "output_type": "stream",
     "text": [
      "0x7fd92f1b56f0\n",
      "0x0\n"
     ]
    },
    {
     "data": {
      "text/plain": [
       "42"
      ]
     },
     "execution_count": 4,
     "metadata": {},
     "output_type": "execute_result"
    }
   ],
   "source": [
    "std::shared_ptr<int> p(new int(42));\n",
    "int *q = p.get();\n",
    "std::cout << q << std::endl;\n",
    "{\n",
    "    std::shared_ptr<int>(q);\n",
    "    std::cout << q << std::endl;\n",
    "}\n",
    "std::cout << p << endl;\n",
    "// q 开始时和 p 保存了相同地址，在强行转换操作中失去地址；p的地址仍在"
   ]
  },
  {
   "cell_type": "code",
   "execution_count": 8,
   "metadata": {},
   "outputs": [
    {
     "name": "stdout",
     "output_type": "stream",
     "text": [
      "0x7fd92f1e2f60\n"
     ]
    }
   ],
   "source": [
    "// ------------------------------------ Case 3: 验证最简单情形下的动态内存释放\n",
    "\n",
    "std::shared_ptr<int> a_p(new int(42));\n",
    "std::cout << a_p << std::endl;"
   ]
  },
  {
   "cell_type": "code",
   "execution_count": 10,
   "metadata": {
    "collapsed": true
   },
   "outputs": [],
   "source": [
    "debug_p = 0x7fd92f1e2f60;\n",
    "value = *reinterpret_cast<int *>(debug_p);\n",
    "value"
   ]
  },
  {
   "cell_type": "code",
   "execution_count": 12,
   "metadata": {
    "collapsed": true
   },
   "outputs": [],
   "source": [
    "a_p.reset();\n",
    "*reinterpret_cast<int *>(debug_p); // 动态内存确实释放了"
   ]
  },
  {
   "cell_type": "code",
   "execution_count": null,
   "metadata": {
    "collapsed": true
   },
   "outputs": [],
   "source": []
  },
  {
   "cell_type": "code",
   "execution_count": null,
   "metadata": {
    "collapsed": true
   },
   "outputs": [],
   "source": [
    "// ============================================ 高级主题"
   ]
  },
  {
   "cell_type": "code",
   "execution_count": 14,
   "metadata": {},
   "outputs": [
    {
     "name": "stdout",
     "output_type": "stream",
     "text": [
      "0x0\n"
     ]
    }
   ],
   "source": [
    "// 多路shared_ptr绑定同一块内存\n"
   ]
  },
  {
   "cell_type": "code",
   "execution_count": null,
   "metadata": {
    "collapsed": true
   },
   "outputs": [],
   "source": [
    "// shared_ptr强制转换导致原指针无效 体现风险的例子"
   ]
  },
  {
   "cell_type": "code",
   "execution_count": 27,
   "metadata": {
    "collapsed": true
   },
   "outputs": [],
   "source": [
    "// 其他类型资源的绑定"
   ]
  },
  {
   "cell_type": "code",
   "execution_count": 1,
   "metadata": {
    "collapsed": true
   },
   "outputs": [],
   "source": []
  },
  {
   "cell_type": "code",
   "execution_count": null,
   "metadata": {
    "collapsed": true
   },
   "outputs": [],
   "source": [
    "// ========================================== JsonParams case 实战\n",
    "\n",
    "// 把动态指针拷贝给动态指针： clone返回物作为动态指针是ok的\n",
    "\n",
    "std::shared_ptr<int> p(new int(3));\n",
    "std::shared_ptr<int> qq = p;\n",
    "std::cout << p << std::endl;\n",
    "std::cout << qq << std::endl;\n",
    "\n",
    "// 也符合原则：动态指针甫一创建，之后这块空间的管理就交给动态指针们，其他人只能从它处拷贝\n",
    "// 利用同一个managed_object & manager_object，保留计数器的原理来实现没有动态指针后就释放这块空间"
   ]
  },
  {
   "cell_type": "code",
   "execution_count": 9,
   "metadata": {
    "collapsed": true
   },
   "outputs": [],
   "source": [
    "int* foo = new int(3);\n",
    "std::shared_ptr<int> ref_a(foo);\n",
    "std::shared_ptr<int> ref_b(foo); // 你死了\n",
    "delete foo;\n",
    "ref_a.reset(new int(3)) // 如果它的空间已经被释放过了，就会core"
   ]
  },
  {
   "cell_type": "code",
   "execution_count": 14,
   "metadata": {},
   "outputs": [
    {
     "name": "stdout",
     "output_type": "stream",
     "text": [
      "0x7fb12a9479a0\n",
      "0x7fb12a9479a0\n",
      "0x7fb12a9479a0\n"
     ]
    }
   ],
   "source": [
    "std::cout << ref_a<< std::endl;\n",
    "std::cout << ref_b<< std::endl;\n",
    "std::cout << foo << std::endl;"
   ]
  },
  {
   "cell_type": "code",
   "execution_count": null,
   "metadata": {
    "collapsed": true
   },
   "outputs": [],
   "source": []
  },
  {
   "cell_type": "code",
   "execution_count": null,
   "metadata": {
    "collapsed": true
   },
   "outputs": [],
   "source": []
  }
 ],
 "metadata": {
  "kernelspec": {
   "display_name": "C++11",
   "language": "C++11",
   "name": "xcpp11"
  },
  "language_info": {
   "codemirror_mode": "text/x-c++src",
   "file_extension": ".cpp",
   "mimetype": "text/x-c++src",
   "name": "c++",
   "version": "-std=c++11"
  }
 },
 "nbformat": 4,
 "nbformat_minor": 2
}
