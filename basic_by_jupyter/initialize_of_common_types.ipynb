{
 "cells": [
  {
   "cell_type": "code",
   "execution_count": 1,
   "metadata": {
    "collapsed": true
   },
   "outputs": [],
   "source": [
    "#include <string>\n",
    "#include <vector>\n",
    "#include <utility>\n",
    "\n",
    "#include <map>\n",
    "#include <unordered_set>\n",
    "#include <unordered_map>\n",
    "\n",
    "#include <mutex>\n",
    "#include <iostream>\n",
    "\n"
   ]
  },
  {
   "cell_type": "code",
   "execution_count": 2,
   "metadata": {},
   "outputs": [
    {
     "name": "stdout",
     "output_type": "stream",
     "text": [
      "main_function\n"
     ]
    }
   ],
   "source": [
    "// vector\n",
    "std::vector<int> a_vec = {1,2,3};\n",
    "std::vector<int> b_vec = {};\n",
    "a_vec.empty();\n",
    "if (b_vec.empty()){\n",
    "    std::cout << \"main_function\" << std::endl;\n",
    "}"
   ]
  },
  {
   "cell_type": "code",
   "execution_count": 2,
   "metadata": {
    "collapsed": true
   },
   "outputs": [],
   "source": [
    "// pair\n",
    "std::pair<int, int> a_pair = {1,2};"
   ]
  },
  {
   "cell_type": "code",
   "execution_count": 2,
   "metadata": {
    "collapsed": true
   },
   "outputs": [],
   "source": [
    "// map\n",
    "std::unordered_map<std::string, int> a_map = {{\"aa\", 1}};\n",
    "std::unordered_map<std::string, int> b_map = {{}};\n",
    "b_map.empty(); //false; { \"\" => 0 }\n",
    "std::unordered_map<std::string, int> c_map;\n",
    "c_map.empty()\n",
    "c_map[\"aa\"] = 3;"
   ]
  },
  {
   "cell_type": "code",
   "execution_count": 2,
   "metadata": {
    "collapsed": true
   },
   "outputs": [],
   "source": [
    "// tuple\n",
    "std::tuple<double, double> lat_and_lng = std::make_tuple(1,1);\n",
    "std::get<0>(lat_and_lng)"
   ]
  },
  {
   "cell_type": "code",
   "execution_count": 6,
   "metadata": {},
   "outputs": [
    {
     "data": {
      "text/plain": [
       "1567582500"
      ]
     },
     "execution_count": 6,
     "metadata": {},
     "output_type": "execute_result"
    }
   ],
   "source": [
    "// time\n",
    "int(time(NULL))"
   ]
  },
  {
   "cell_type": "code",
   "execution_count": null,
   "metadata": {
    "collapsed": true
   },
   "outputs": [],
   "source": [
    "//multimap: https://blog.csdn.net/u010949971/article/details/60753093"
   ]
  }
 ],
 "metadata": {
  "kernelspec": {
   "display_name": "C++11",
   "language": "C++11",
   "name": "xcpp11"
  },
  "language_info": {
   "codemirror_mode": "text/x-c++src",
   "file_extension": ".cpp",
   "mimetype": "text/x-c++src",
   "name": "c++",
   "version": "-std=c++11"
  }
 },
 "nbformat": 4,
 "nbformat_minor": 2
}
