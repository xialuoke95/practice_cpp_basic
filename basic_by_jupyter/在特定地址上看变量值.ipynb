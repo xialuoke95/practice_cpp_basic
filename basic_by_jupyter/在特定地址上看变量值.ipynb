{
 "cells": [
  {
   "cell_type": "code",
   "execution_count": null,
   "metadata": {
    "collapsed": true
   },
   "outputs": [],
   "source": [
    "uintptr_t debug_p;\n",
    "int value;\n",
    "int a;\n",
    "\n",
    "debug_p = 0x7fd31d6c2448;\n",
    "value = *reinterpret_cast<int *>(debug_p); \n",
    "value"
   ]
  }
 ],
 "metadata": {
  "kernelspec": {
   "display_name": "C++11",
   "language": "C++11",
   "name": "xcpp11"
  },
  "language_info": {
   "codemirror_mode": "text/x-c++src",
   "file_extension": ".cpp",
   "mimetype": "text/x-c++src",
   "name": "c++",
   "version": "-std=c++11"
  }
 },
 "nbformat": 4,
 "nbformat_minor": 2
}
