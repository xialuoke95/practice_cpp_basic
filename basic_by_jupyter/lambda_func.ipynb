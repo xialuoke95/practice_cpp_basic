{
 "cells": [
  {
   "cell_type": "code",
   "execution_count": 1,
   "metadata": {
    "collapsed": true
   },
   "outputs": [],
   "source": [
    "// 匿名与模板函数\n",
    "\n",
    "#include <algorithm>\n",
    "#include <vector>\n",
    "#include <utility>\n",
    "#include <string>\n",
    "# \n",
    "\n",
    "auto a_vec = {1,3,2};\n",
    "// auto b_vec = {{\"a\", 1}, {\"b\",3}, {\"c\", 2}};  这个级别的复杂类型无法auto推断；但某些指针又可以\n",
    "std::vector<std::pair<std::string, int>> c_vec = {{\"a\", 1}, {\"b\",3}, {\"c\", 2}};\n"
   ]
  },
  {
   "cell_type": "code",
   "execution_count": 2,
   "metadata": {
    "collapsed": true
   },
   "outputs": [],
   "source": [
    "std::sort(c_vec.begin(), c_vec.end(),\n",
    "    [](const std::pair<std::string, int> &a, const std::pair<std::string, int> &b) {return a.second < b.second;}\n",
    ");"
   ]
  },
  {
   "cell_type": "code",
   "execution_count": 3,
   "metadata": {},
   "outputs": [
    {
     "data": {
      "text/plain": [
       "{ {\"a\" , 1}, {\"c\" , 2}, {\"b\" , 3} }"
      ]
     },
     "execution_count": 3,
     "metadata": {},
     "output_type": "execute_result"
    }
   ],
   "source": [
    "c_vec"
   ]
  },
  {
   "cell_type": "code",
   "execution_count": 12,
   "metadata": {},
   "outputs": [
    {
     "data": {
      "text/plain": [
       "12"
      ]
     },
     "execution_count": 12,
     "metadata": {},
     "output_type": "execute_result"
    }
   ],
   "source": [
    "(int)12.3"
   ]
  },
  {
   "cell_type": "code",
   "execution_count": null,
   "metadata": {
    "collapsed": true
   },
   "outputs": [],
   "source": []
  }
 ],
 "metadata": {
  "kernelspec": {
   "display_name": "C++11",
   "language": "C++11",
   "name": "xcpp11"
  },
  "language_info": {
   "codemirror_mode": "text/x-c++src",
   "file_extension": ".cpp",
   "mimetype": "text/x-c++src",
   "name": "c++",
   "version": "-std=c++11"
  }
 },
 "nbformat": 4,
 "nbformat_minor": 2
}
